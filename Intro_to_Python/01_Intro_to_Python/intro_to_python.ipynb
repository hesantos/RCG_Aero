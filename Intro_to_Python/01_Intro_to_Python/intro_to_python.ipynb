{
 "cells": [
  {
   "cell_type": "markdown",
   "metadata": {},
   "source": [
    "# Intro to Python\n",
    "Part of the SWEET Workshop series presented by the [IDEA Student Center at UC San Diego](http://www.jacobsschool.ucsd.edu/student/).\n",
    "\n",
    "### Goals\n",
    "- learn the basics of Python (the programming language)\n",
    "- use Python to model an iPhone 6 bending\n",
    "- use numpy to vectorize the bending calculation\n",
    "- use matplotlib to visualize the bending\n",
    "\n",
    "### Requirements\n",
    "- python 2.7\n",
    "- ipython-notebook\n",
    "- numpy\n",
    "- matplotlib"
   ]
  },
  {
   "cell_type": "markdown",
   "metadata": {},
   "source": [
    "## 1) Basics of Python\n",
    "Python is a very simple language, but can be very powerful. We'll first go over the basics of Python's syntax."
   ]
  },
  {
   "cell_type": "code",
   "execution_count": 3,
   "metadata": {},
   "outputs": [
    {
     "name": "stdout",
     "output_type": "stream",
     "text": [
      "Hello World! UCSD\n"
     ]
    }
   ],
   "source": [
    "print \"Hello World! UCSD\""
   ]
  },
  {
   "cell_type": "code",
   "execution_count": 5,
   "metadata": {},
   "outputs": [
    {
     "name": "stdout",
     "output_type": "stream",
     "text": [
      "This line shows up. INDEED\n"
     ]
    }
   ],
   "source": [
    "# Python uses # to comment out lines\n",
    "print \"This line shows up. INDEED\"\n",
    "\n",
    "# print \"But this line doesn't, since it is commented out by a # symbol\""
   ]
  },
  {
   "cell_type": "code",
   "execution_count": 7,
   "metadata": {},
   "outputs": [
    {
     "name": "stdout",
     "output_type": "stream",
     "text": [
      "5\n"
     ]
    }
   ],
   "source": [
    "# assign a variables with =\n",
    "x = 5\n",
    "print x"
   ]
  },
  {
   "cell_type": "code",
   "execution_count": 18,
   "metadata": {},
   "outputs": [
    {
     "name": "stdout",
     "output_type": "stream",
     "text": [
      "This is pi: 3.14159265359\n",
      "This is the force of gravity on Earth: 9.81 m/s^2\n"
     ]
    }
   ],
   "source": [
    "# now try to create variables for common engineering-related constants:\n",
    "# - pi\n",
    "# - acceleration due to gravity (on Earth)\n",
    "pi = 3.14159265359\n",
    "g = 9.81\n",
    "\n",
    "print \"This is pi:\",pi\n",
    "print \"This is the force of gravity on Earth:\",g, \"m/s^2\""
   ]
  },
  {
   "cell_type": "code",
   "execution_count": 16,
   "metadata": {},
   "outputs": [
    {
     "name": "stdout",
     "output_type": "stream",
     "text": [
      "8\n"
     ]
    }
   ],
   "source": [
    "# math operations in Python are straightforward\n",
    "#  + = addition\n",
    "#  - = subtraction\n",
    "#  * = multiplication\n",
    "#  / = division\n",
    "#  ** = raised to a power\n",
    "\n",
    "print 4 * 2"
   ]
  },
  {
   "cell_type": "code",
   "execution_count": 25,
   "metadata": {},
   "outputs": [
    {
     "name": "stdout",
     "output_type": "stream",
     "text": [
      "1177.2\n",
      "3121300.0\n",
      "600.0\n"
     ]
    }
   ],
   "source": [
    "# now try calculating some engineering-related things\n",
    "\n",
    "# 1) the potential energy (PE) of a 2 kg bowling ball dropped \n",
    "# from the top of Jacobs Hall (recall that PE = m * g * h)\n",
    "\n",
    "height = 60.0\n",
    "mass = 2\n",
    "\n",
    "potentialEnergy = height*mass*g\n",
    "print potentialEnergy\n",
    "\n",
    "# 2) the kinetic energy (KE) of F-16 fighter jet (~9100 kg) traveling\n",
    "# at mach 2 (recall that KE = 1/2 * m * v^2)\n",
    "\n",
    "massJet = 9100.0\n",
    "mach2 = 686\n",
    "kineticEnergy = massJet*1/2*mach2\n",
    "print kineticEnergy\n",
    "\n",
    "# 3) the Reynolds number (RE) of blood flowing through an artery,\n",
    "# assuming:\n",
    "#   - flow rate: 45 cm/s\n",
    "#   - diameter: 0.4 cm\n",
    "#   - kinematic viscosity = 3 x 10^-6 m^2/s\n",
    "#\n",
    "# HINT: make sure to convert everything to the same units\n",
    "\n",
    "reynoldsNum = .45*.004*(1/(3*10**-6))\n",
    "print reynoldsNum\n"
   ]
  },
  {
   "cell_type": "markdown",
   "metadata": {},
   "source": [
    "## 2) Plotting"
   ]
  },
  {
   "cell_type": "code",
   "execution_count": 34,
   "metadata": {},
   "outputs": [],
   "source": [
    "# in order to plot anything, we need to load a plotting package\n",
    "\n",
    "# this loads the plotting package ``matplotlib``\n",
    "import matplotlib\n",
    "\n",
    "# and to make the plots be displayed inside the iPython Notebook,\n",
    "# we simply run the following line:\n",
    "%matplotlib inline\n",
    "\n",
    "# since we only need pyplot (the plotting part of matplotlib)\n",
    "# we'll change our import call to only load ``pyplot``\n",
    "import matplotlib.pyplot\n",
    "\n",
    "# but typing \"matplotlib.pyplot\" over and over gets old fast,\n",
    "# so we again define an alias\n",
    "import matplotlib.pyplot as plt\n",
    "\n",
    "# now whenever we write ``plt``, the code knows we actually\n",
    "# mean ``matplotlib.pyplot``"
   ]
  },
  {
   "cell_type": "code",
   "execution_count": 32,
   "metadata": {},
   "outputs": [
    {
     "data": {
      "image/png": "[encoded data removed]",
      "text/plain": [
       "<matplotlib.figure.Figure at 0x108025ed0>"
      ]
     },
     "metadata": {},
     "output_type": "display_data"
    }
   ],
   "source": [
    "# we'll start with a simple line plot of y = x^2\n",
    "\n",
    "# create the data to plot\n",
    "#\n",
    "# NOTE: the two variables must have the same number of elements\n",
    "#\n",
    "x = [1, 2, 3, 4, 5]\n",
    "y = [1, 4, 9, 16, 25]\n",
    "\n",
    "# plot the data\n",
    "plt.plot(x, y)\n",
    "\n",
    "# show the plot\n",
    "plt.show()"
   ]
  },
  {
   "cell_type": "code",
   "execution_count": 42,
   "metadata": {},
   "outputs": [
    {
     "data": {
      "image/png": "[encoded data removed]",
      "text/plain": [
       "<matplotlib.figure.Figure at 0x1081942d0>"
      ]
     },
     "metadata": {},
     "output_type": "display_data"
    }
   ],
   "source": [
    "# let's create another simple plot, but this time we'll customize it\n",
    "\n",
    "# create the data\n",
    "x = [1, 2, 3, 4, 5]\n",
    "y = [1, 4, 9, 16, 25]\n",
    "\n",
    "# plot the data, but change the line color\n",
    "plt.plot(x, y, color='#baff1e', linewidth = 1)\n",
    "\n",
    "# add an x-axis label\n",
    "plt.xlabel('x')\n",
    "plt.xlim([0,6])\n",
    "\n",
    "# change the y-axis range\n",
    "plt.ylim([0, 30])\n",
    "plt.ylabel('y')\n",
    "\n",
    "# show the plot\n",
    "plt.show()\n",
    "\n",
    "\n",
    "# now try revising the plot as follows:\n",
    "# - add a y-axis label\n",
    "# - set the x-axis range to be from 0 to 6\n",
    "# - change the line color\n",
    "#"
   ]
  },
  {
   "cell_type": "markdown",
   "metadata": {},
   "source": [
    "## 3) Example application: iPhone 6 bending\n",
    "We are going to model the bending of an iPhone 6 by treating the \n",
    "iPhone 6 has a beam supported on two ends, with a force in its \n",
    "center. In this scenario, the deflection at the center ($\\delta_c$)\n",
    "can be calculated as:\n",
    "\n",
    "$ \\delta_c = \\frac{F L^3}{48 E I}$ ,\n",
    "\n",
    "where $F$ is the force at the center, $L$ is the length of the beam,\n",
    "$E$ is the modulus of elasticity of the material, and $I$ is the \n",
    "area moment of inertia of the beam. Since the iPhone is basically\n",
    "a rectangular beam, we can calculate $I$ as:\n",
    "\n",
    "$ I = \\frac{b h^3}{12}$ ,\n",
    "\n",
    "where $b$ is the width of the beam and $h$ is the height (i.e. thickness)."
   ]
  },
  {
   "cell_type": "code",
   "execution_count": 46,
   "metadata": {},
   "outputs": [
    {
     "data": {
      "text/html": [
       "<img src=\"http://upload.wikimedia.org/wikipedia/commons/1/10/Beam_bending.png\" width=\"300\"/>"
      ],
      "text/plain": [
       "<IPython.core.display.Image object>"
      ]
     },
     "execution_count": 46,
     "metadata": {},
     "output_type": "execute_result"
    }
   ],
   "source": [
    "# here's what our simplified model looks like\n",
    "# (ignore what the code for now and just focus on the image)\n",
    "from IPython.display import Image\n",
    "Image(url='http://upload.wikimedia.org/wikipedia/commons/1/10/Beam_bending.png', width=300)"
   ]
  },
  {
   "cell_type": "markdown",
   "metadata": {},
   "source": [
    "### 3.1) Estimate material properties of the iPhone\n",
    "Although the iPhone 6 is made up of multiple materials (aluminum, \n",
    "glass, etc.), each with different values of $E$, we can simplify\n",
    "our problem by treating the iPhone as if it is made of a single\n",
    "material with some unknown $E$. Then we can use reported bending\n",
    "results to estimate $E$.\n",
    "\n",
    "From the [Apple website](https://www.apple.com/iphone-6/specs/), \n",
    "the iPhone 6 is 138.1mm long, 67.0mm wide, and 6.9mm thick. And \n",
    "reports indicate that the iPhone 6 bends ~1cm under ~70 lbs of \n",
    "force (~311 N)."
   ]
  },
  {
   "cell_type": "code",
   "execution_count": 48,
   "metadata": {},
   "outputs": [],
   "source": [
    "# use the information above to calculate the moment of \n",
    "# intertia (I) for the iPhone 6 in units of [m^4]\n",
    "\n",
    "width = .067\n",
    "thickness = 0.0069\n",
    "intertia = (width*(thickness**3))/12.0"
   ]
  },
  {
   "cell_type": "code",
   "execution_count": 49,
   "metadata": {},
   "outputs": [
    {
     "name": "stdout",
     "output_type": "stream",
     "text": [
      "930377841.77\n"
     ]
    }
   ],
   "source": [
    "# now calculate the modulus of elasticity (E) of the\n",
    "# iPhone in units of [N/m^2]\n",
    "\n",
    "force = 311\n",
    "length = 0.1381\n",
    "deflection = 0.01\n",
    "modulusElasticity = (force*(length**3))/(48*intertia*deflection)\n",
    "\n",
    "print modulusElasticity"
   ]
  },
  {
   "cell_type": "code",
   "execution_count": null,
   "metadata": {},
   "outputs": [],
   "source": [
    "# compare your estimated value of E to other common materials\n",
    "# (e.g. 1060 Aluminum)\n"
   ]
  },
  {
   "cell_type": "markdown",
   "metadata": {},
   "source": [
    "### 3.2) Model the iPhone bending under a range of forces\n",
    "The next logical step in this analysis is to calculate the deflection of the iPhone under a range of forces. To do this, we are going to vectorize our calculations using the numpy package."
   ]
  },
  {
   "cell_type": "code",
   "execution_count": null,
   "metadata": {},
   "outputs": [],
   "source": [
    "# in Python, you have to explicitly state which packages you want\n",
    "# to use via the \"import\" command\n",
    "import numpy\n",
    "\n",
    "# test that numpy loaded properly by using one of numpy's functions\n",
    "print numpy.pi\n",
    "\n",
    "# cos(0) = 1\n",
    "print numpy.cos(0)\n",
    "\n",
    "# sin(pi/2) = 1\n"
   ]
  },
  {
   "cell_type": "code",
   "execution_count": null,
   "metadata": {},
   "outputs": [],
   "source": [
    "# because writing \"numpy\" over and over gets tiring, we\n",
    "# can assign a shorter name to refer to \"numpy\"\n",
    "import numpy as np\n",
    "\n",
    "print np.pi\n",
    "\n",
    "# try calling other numpy functions"
   ]
  },
  {
   "cell_type": "code",
   "execution_count": null,
   "metadata": {},
   "outputs": [],
   "source": [
    "# to create a vector of values, using numpy's arange() function:\n",
    "#\n",
    "# array = numpy.arange(minimum, maximum, step change)\n",
    "print numpy.arange(0.0, 5, 1.0)"
   ]
  },
  {
   "cell_type": "code",
   "execution_count": null,
   "metadata": {},
   "outputs": [],
   "source": [
    "# now try some vectorized calculations\n",
    "\n",
    "# create a vector and square all the values\n",
    "\n",
    "\n",
    "# calculate the mean value of a vector using numpy's mean() function:\n",
    "#\n",
    "# mean = np.mean(some_vector)\n",
    "\n",
    "\n",
    "# numpy has functions for other common operations, e.g., sum, \n",
    "# max, min, and standard deviation\n"
   ]
  },
  {
   "cell_type": "code",
   "execution_count": null,
   "metadata": {},
   "outputs": [],
   "source": [
    "# now let's apply what we've learned to modeling the\n",
    "# iPhone 6 bending\n",
    "\n",
    "# again, calculate the area moment of intertia [m^2] of the iPhone,\n",
    "# making sure to keep the units consistent (e.g. all dimensions in [m], not [mm])\n",
    "\n",
    "\n",
    "# create a vector with a range of forces [N] to test\n",
    "\n",
    "\n",
    "# calculate the deflection [m] of the iPhone for the range of\n",
    "# forces\n"
   ]
  },
  {
   "cell_type": "markdown",
   "metadata": {},
   "source": [
    "### 3.3) Plotting the deflection vs. force\n",
    "Now let's visualize how the force affects the deflection of the iPhone. We'll use matplotlib to plot the force vs. the deflection."
   ]
  },
  {
   "cell_type": "code",
   "execution_count": null,
   "metadata": {},
   "outputs": [],
   "source": [
    "# NOTE: we already have the plotting package ``matplotlib`` loaded, but\n",
    "# for reference:\n",
    "\n",
    "# load the plotting library with ``plt`` as an alias\n",
    "import matplotlib.pyplot as plt\n",
    "\n",
    "# make the plots be displayed inside the iPython Notebook\n",
    "%matplotlib inline"
   ]
  },
  {
   "cell_type": "code",
   "execution_count": null,
   "metadata": {},
   "outputs": [],
   "source": [
    "# generate two vectors to plot, e.g.,\n",
    "# - x = 0 to 2*pi\n",
    "# - y = sin(x)\n",
    "#x =\n",
    "#y =\n",
    "\n",
    "# plot the data\n",
    "#plt.plot(x, y)\n",
    "\n",
    "# add labels to the x-axis and y-axis using plt.xlabel() and plt.ylabel()"
   ]
  },
  {
   "cell_type": "code",
   "execution_count": null,
   "metadata": {},
   "outputs": [],
   "source": [
    "# now let's plot the force vs. deflection vectors that you\n",
    "# calculated in the previous section\n",
    "\n",
    "# plot the vectors\n",
    "\n",
    "\n",
    "# add axes labels\n"
   ]
  },
  {
   "cell_type": "code",
   "execution_count": null,
   "metadata": {},
   "outputs": [],
   "source": [
    "# matplotlib has many options for customizing plots, so let's try them out:\n",
    "\n",
    "# change the line color to red:\n",
    "# - plt.plot(x, y, color='red')\n",
    "\n",
    "# change the line color to a custom color\n",
    "# - '#6c71c4' is the hex code for a purple/violet color\n",
    "# - plt.plot(x, y, color='#6c71c4')\n",
    "\n",
    "# change the line thickness\n",
    "# - plt.plot(x, y, linewidth=2)\n",
    "\n",
    "# change the line style (solid, dashed, dotted)\n",
    "# - plt.plot(x, y, linestyle='--')\n",
    "# - plt.plot(x, y, linestyle='-.')\n",
    "# - plt.plot(x, y, linestyle=':')"
   ]
  },
  {
   "cell_type": "markdown",
   "metadata": {},
   "source": [
    "### 3.4) Extra: compare multiple materials\n",
    "Compare how much the iPhone would bend if it were made out of other materials (e.g. steel or titanium).\n",
    "\n",
    "1. look up the modulus of elasticity ($E$) for the different materials\n",
    "2. calculate the deflection for each material\n",
    "3. plot the deflection vs. force for the multiple materials"
   ]
  },
  {
   "cell_type": "code",
   "execution_count": null,
   "metadata": {},
   "outputs": [],
   "source": [
    "# calculate deflection for the different materials\n"
   ]
  },
  {
   "cell_type": "code",
   "execution_count": null,
   "metadata": {},
   "outputs": [],
   "source": [
    "# plot the deflections for the materials (on the same plot\n",
    "# so you can compare)\n"
   ]
  }
 ],
 "metadata": {
  "kernelspec": {
   "display_name": "Python 3",
   "language": "python",
   "name": "python3"
  },
  "language_info": {
   "codemirror_mode": {
    "name": "ipython",
    "version": 3
   },
   "file_extension": ".py",
   "mimetype": "text/x-python",
   "name": "python",
   "nbconvert_exporter": "python",
   "pygments_lexer": "ipython3",
   "version": "3.6.3"
  }
 },
 "nbformat": 4,
 "nbformat_minor": 1
}
